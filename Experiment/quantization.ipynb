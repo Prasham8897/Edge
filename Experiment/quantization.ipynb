{
  "nbformat": 4,
  "nbformat_minor": 0,
  "metadata": {
    "kernelspec": {
      "display_name": "Python 3",
      "language": "python",
      "name": "python3"
    },
    "language_info": {
      "codemirror_mode": {
        "name": "ipython",
        "version": 3
      },
      "file_extension": ".py",
      "mimetype": "text/x-python",
      "name": "python",
      "nbconvert_exporter": "python",
      "pygments_lexer": "ipython3",
      "version": "3.7.3"
    },
    "colab": {
      "name": "quantization.ipynb",
      "provenance": []
    }
  },
  "cells": [
    {
      "cell_type": "code",
      "metadata": {
        "id": "0C1BK0bY5Tzh",
        "outputId": "c34b21a8-499a-4795-9527-4165460895c8",
        "colab": {
          "base_uri": "https://localhost:8080/",
          "height": 85
        }
      },
      "source": [
        "# Clone github repository setup\n",
        "from os.path import join\n",
        "from google.colab import drive\n",
        "\n",
        "# path to your project on Google Drive\n",
        "MY_GOOGLE_DRIVE_PATH = 'My Drive/Capstone Project'\n",
        "ROOT = '/content/gdrive/'\n",
        "drive.mount(ROOT)\n",
        "\n",
        "# replace with your Github token, username, repo\n",
        "GIT_TOKEN = '4f61cb936944e66abd13e7e809e199ee3a378fae'\n",
        "GIT_USERNAME = 'mohitgulla' \n",
        "GIT_REPOSITORY = 'Edge'\n",
        "\n",
        "PROJECT_PATH = join(ROOT, MY_GOOGLE_DRIVE_PATH)\n",
        "print('PROJECT_PATH: ', PROJECT_PATH)   \n",
        "\n",
        "# In case we haven't created the folder already\n",
        "!mkdir '{PROJECT_PATH}'    \n",
        "\n",
        "GIT_PATH = 'https://' + GIT_TOKEN + '@github.com/' + GIT_USERNAME + '/' + GIT_REPOSITORY + '.git'\n",
        "print(\"GIT_PATH: \", GIT_PATH)"
      ],
      "execution_count": 1,
      "outputs": [
        {
          "output_type": "stream",
          "text": [
            "Drive already mounted at /content/gdrive/; to attempt to forcibly remount, call drive.mount(\"/content/gdrive/\", force_remount=True).\n",
            "PROJECT_PATH:  /content/gdrive/My Drive/Capstone Project\n",
            "mkdir: cannot create directory ‘/content/gdrive/My Drive/Capstone Project’: File exists\n",
            "GIT_PATH:  https://4f61cb936944e66abd13e7e809e199ee3a378fae@github.com/mohitgulla/Edge.git\n"
          ],
          "name": "stdout"
        }
      ]
    },
    {
      "cell_type": "code",
      "metadata": {
        "id": "QJxcMLqv5a3q",
        "outputId": "1debf0d9-65cb-4e8b-f13b-877028627ae9",
        "colab": {
          "base_uri": "https://localhost:8080/",
          "height": 136
        }
      },
      "source": [
        "%cd \"{PROJECT_PATH}\"\n",
        "!git clone \"{GIT_PATH}\""
      ],
      "execution_count": 3,
      "outputs": [
        {
          "output_type": "stream",
          "text": [
            "/content/gdrive/My Drive/Capstone Project\n",
            "Cloning into 'Edge'...\n",
            "remote: Enumerating objects: 19, done.\u001b[K\n",
            "remote: Counting objects: 100% (19/19), done.\u001b[K\n",
            "remote: Compressing objects: 100% (14/14), done.\u001b[K\n",
            "remote: Total 19 (delta 2), reused 4 (delta 0), pack-reused 0\u001b[K\n",
            "Unpacking objects: 100% (19/19), done.\n"
          ],
          "name": "stdout"
        }
      ]
    },
    {
      "cell_type": "code",
      "metadata": {
        "id": "ldOUXas6_O1K"
      },
      "source": [
        ""
      ],
      "execution_count": null,
      "outputs": []
    }
  ]
}